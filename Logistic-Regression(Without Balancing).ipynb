{
 "cells": [
  {
   "cell_type": "code",
   "execution_count": 1,
   "id": "20ae95c9",
   "metadata": {},
   "outputs": [],
   "source": [
    "import warnings\n",
    "warnings.filterwarnings('ignore')"
   ]
  },
  {
   "cell_type": "code",
   "execution_count": 2,
   "id": "52f4f309",
   "metadata": {},
   "outputs": [],
   "source": [
    "import pandas as pd\n",
    "import matplotlib.pyplot as plt\n",
    "import seaborn as sns\n",
    "import numpy as np\n",
    "from collections import Counter\n",
    "from sklearn.model_selection import train_test_split\n",
    "from sklearn.preprocessing import StandardScaler\n",
    "from sklearn.metrics import accuracy_score, precision_score, recall_score, classification_report, f1_score\n",
    "from sklearn.metrics import confusion_matrix, ConfusionMatrixDisplay"
   ]
  },
  {
   "cell_type": "code",
   "execution_count": 3,
   "id": "127cbd62",
   "metadata": {},
   "outputs": [],
   "source": [
    "df= pd.read_csv(\"loan_final.csv\")"
   ]
  },
  {
   "cell_type": "code",
   "execution_count": 4,
   "id": "6d15d8ad",
   "metadata": {},
   "outputs": [
    {
     "data": {
      "text/html": [
       "<div>\n",
       "<style scoped>\n",
       "    .dataframe tbody tr th:only-of-type {\n",
       "        vertical-align: middle;\n",
       "    }\n",
       "\n",
       "    .dataframe tbody tr th {\n",
       "        vertical-align: top;\n",
       "    }\n",
       "\n",
       "    .dataframe thead th {\n",
       "        text-align: right;\n",
       "    }\n",
       "</style>\n",
       "<table border=\"1\" class=\"dataframe\">\n",
       "  <thead>\n",
       "    <tr style=\"text-align: right;\">\n",
       "      <th></th>\n",
       "      <th>loan_id</th>\n",
       "      <th>no_of_dependents</th>\n",
       "      <th>education</th>\n",
       "      <th>self_employed</th>\n",
       "      <th>income_annum</th>\n",
       "      <th>loan_amount</th>\n",
       "      <th>loan_term</th>\n",
       "      <th>cibil_score</th>\n",
       "      <th>residential_assets_value</th>\n",
       "      <th>commercial_assets_value</th>\n",
       "      <th>luxury_assets_value</th>\n",
       "      <th>bank_asset_value</th>\n",
       "      <th>status</th>\n",
       "    </tr>\n",
       "  </thead>\n",
       "  <tbody>\n",
       "    <tr>\n",
       "      <th>0</th>\n",
       "      <td>1</td>\n",
       "      <td>2</td>\n",
       "      <td>Graduate</td>\n",
       "      <td>No</td>\n",
       "      <td>9600000</td>\n",
       "      <td>29900000</td>\n",
       "      <td>12</td>\n",
       "      <td>778</td>\n",
       "      <td>2400000</td>\n",
       "      <td>17600000</td>\n",
       "      <td>22700000</td>\n",
       "      <td>8000000</td>\n",
       "      <td>Approved</td>\n",
       "    </tr>\n",
       "    <tr>\n",
       "      <th>1</th>\n",
       "      <td>2</td>\n",
       "      <td>0</td>\n",
       "      <td>Not Graduate</td>\n",
       "      <td>Yes</td>\n",
       "      <td>4100000</td>\n",
       "      <td>12200000</td>\n",
       "      <td>8</td>\n",
       "      <td>417</td>\n",
       "      <td>2700000</td>\n",
       "      <td>2200000</td>\n",
       "      <td>8800000</td>\n",
       "      <td>3300000</td>\n",
       "      <td>Rejected</td>\n",
       "    </tr>\n",
       "    <tr>\n",
       "      <th>2</th>\n",
       "      <td>3</td>\n",
       "      <td>3</td>\n",
       "      <td>Graduate</td>\n",
       "      <td>No</td>\n",
       "      <td>9100000</td>\n",
       "      <td>29700000</td>\n",
       "      <td>20</td>\n",
       "      <td>506</td>\n",
       "      <td>7100000</td>\n",
       "      <td>4500000</td>\n",
       "      <td>33300000</td>\n",
       "      <td>12800000</td>\n",
       "      <td>Rejected</td>\n",
       "    </tr>\n",
       "    <tr>\n",
       "      <th>3</th>\n",
       "      <td>4</td>\n",
       "      <td>3</td>\n",
       "      <td>Graduate</td>\n",
       "      <td>No</td>\n",
       "      <td>8200000</td>\n",
       "      <td>30700000</td>\n",
       "      <td>8</td>\n",
       "      <td>467</td>\n",
       "      <td>18200000</td>\n",
       "      <td>3300000</td>\n",
       "      <td>23300000</td>\n",
       "      <td>7900000</td>\n",
       "      <td>Rejected</td>\n",
       "    </tr>\n",
       "    <tr>\n",
       "      <th>4</th>\n",
       "      <td>5</td>\n",
       "      <td>5</td>\n",
       "      <td>Not Graduate</td>\n",
       "      <td>Yes</td>\n",
       "      <td>9800000</td>\n",
       "      <td>24200000</td>\n",
       "      <td>20</td>\n",
       "      <td>382</td>\n",
       "      <td>12400000</td>\n",
       "      <td>8200000</td>\n",
       "      <td>29400000</td>\n",
       "      <td>5000000</td>\n",
       "      <td>Rejected</td>\n",
       "    </tr>\n",
       "  </tbody>\n",
       "</table>\n",
       "</div>"
      ],
      "text/plain": [
       "   loan_id   no_of_dependents      education  self_employed   income_annum  \\\n",
       "0        1                  2       Graduate             No        9600000   \n",
       "1        2                  0   Not Graduate            Yes        4100000   \n",
       "2        3                  3       Graduate             No        9100000   \n",
       "3        4                  3       Graduate             No        8200000   \n",
       "4        5                  5   Not Graduate            Yes        9800000   \n",
       "\n",
       "    loan_amount   loan_term   cibil_score   residential_assets_value  \\\n",
       "0      29900000          12           778                    2400000   \n",
       "1      12200000           8           417                    2700000   \n",
       "2      29700000          20           506                    7100000   \n",
       "3      30700000           8           467                   18200000   \n",
       "4      24200000          20           382                   12400000   \n",
       "\n",
       "    commercial_assets_value   luxury_assets_value   bank_asset_value  \\\n",
       "0                  17600000              22700000            8000000   \n",
       "1                   2200000               8800000            3300000   \n",
       "2                   4500000              33300000           12800000   \n",
       "3                   3300000              23300000            7900000   \n",
       "4                   8200000              29400000            5000000   \n",
       "\n",
       "      status  \n",
       "0   Approved  \n",
       "1   Rejected  \n",
       "2   Rejected  \n",
       "3   Rejected  \n",
       "4   Rejected  "
      ]
     },
     "execution_count": 4,
     "metadata": {},
     "output_type": "execute_result"
    }
   ],
   "source": [
    "df.head()"
   ]
  },
  {
   "cell_type": "code",
   "execution_count": 5,
   "id": "38c58bfa",
   "metadata": {},
   "outputs": [
    {
     "data": {
      "text/plain": [
       "(4269, 13)"
      ]
     },
     "execution_count": 5,
     "metadata": {},
     "output_type": "execute_result"
    }
   ],
   "source": [
    "df.shape"
   ]
  },
  {
   "cell_type": "code",
   "execution_count": 6,
   "id": "86083796",
   "metadata": {},
   "outputs": [
    {
     "name": "stdout",
     "output_type": "stream",
     "text": [
      "number of rows 4269\n",
      "number of columns 13\n"
     ]
    }
   ],
   "source": [
    "n_rows, n_columns = df.shape\n",
    "print('number of rows', n_rows)\n",
    "print('number of columns', n_columns)\n"
   ]
  },
  {
   "cell_type": "code",
   "execution_count": 7,
   "id": "01991478",
   "metadata": {},
   "outputs": [
    {
     "data": {
      "text/plain": [
       " Approved    2656\n",
       " Rejected    1613\n",
       "Name: status, dtype: int64"
      ]
     },
     "execution_count": 7,
     "metadata": {},
     "output_type": "execute_result"
    }
   ],
   "source": [
    "#Get count of number of M or B cells in diagnosis\n",
    "df['status'].value_counts()"
   ]
  },
  {
   "cell_type": "markdown",
   "id": "15947822",
   "metadata": {},
   "source": [
    "# Plotting the dataset Approved and Rejected"
   ]
  },
  {
   "cell_type": "code",
   "execution_count": 8,
   "id": "4ebc642e",
   "metadata": {},
   "outputs": [
    {
     "data": {
      "image/png": "[encoded data removed]",
      "text/plain": [
       "<Figure size 640x480 with 1 Axes>"
      ]
     },
     "metadata": {},
     "output_type": "display_data"
    }
   ],
   "source": [
    "import seaborn as sns\n",
    "import matplotlib.pyplot as plt\n",
    "plot= sns.countplot(data= df, x= \"status\",\n",
    "              edgecolor=\"1\", linewidth=1)\n",
    "for bar in plot.patches:\n",
    "    plot.annotate(format(bar.get_height(), '.0f'),\n",
    "        (bar.get_x() + bar.get_width() / 2,\n",
    "        bar.get_height()), ha='center', va='center',\n",
    "        size=10, xytext=(0, 10),\n",
    "        textcoords='offset points')\n",
    "plt.ylim(0, 4000)\n",
    "plt.title(\"Sample count for target feature\", fontsize=15, fontweight= \"bold\", pad= 20)\n",
    "plt.ylabel(\"\")\n",
    "plt.show()"
   ]
  },
  {
   "cell_type": "code",
   "execution_count": 9,
   "id": "3974dbe1",
   "metadata": {},
   "outputs": [],
   "source": [
    "from sklearn.preprocessing import LabelEncoder\n",
    "\n",
    "# Create a copy of the dataset for preprocessing\n",
    "loan_data_preprocessed = df.copy()\n",
    "\n",
    "# Initialize label encoders for categorical variables\n",
    "le_education = LabelEncoder()\n",
    "le_self_employed = LabelEncoder()\n",
    "le_status = LabelEncoder()\n",
    "\n",
    "# Encode categorical variables\n",
    "loan_data_preprocessed[' education'] = le_education.fit_transform(loan_data_preprocessed[' education'])\n",
    "loan_data_preprocessed[' self_employed'] = le_self_employed.fit_transform(loan_data_preprocessed[' self_employed'])\n",
    "loan_data_preprocessed['status'] = le_status.fit_transform(loan_data_preprocessed['status'])\n"
   ]
  },
  {
   "cell_type": "code",
   "execution_count": 10,
   "id": "63272d68",
   "metadata": {},
   "outputs": [
    {
     "data": {
      "text/html": [
       "<div>\n",
       "<style scoped>\n",
       "    .dataframe tbody tr th:only-of-type {\n",
       "        vertical-align: middle;\n",
       "    }\n",
       "\n",
       "    .dataframe tbody tr th {\n",
       "        vertical-align: top;\n",
       "    }\n",
       "\n",
       "    .dataframe thead th {\n",
       "        text-align: right;\n",
       "    }\n",
       "</style>\n",
       "<table border=\"1\" class=\"dataframe\">\n",
       "  <thead>\n",
       "    <tr style=\"text-align: right;\">\n",
       "      <th></th>\n",
       "      <th>loan_id</th>\n",
       "      <th>no_of_dependents</th>\n",
       "      <th>education</th>\n",
       "      <th>self_employed</th>\n",
       "      <th>income_annum</th>\n",
       "      <th>loan_amount</th>\n",
       "      <th>loan_term</th>\n",
       "      <th>cibil_score</th>\n",
       "      <th>residential_assets_value</th>\n",
       "      <th>commercial_assets_value</th>\n",
       "      <th>luxury_assets_value</th>\n",
       "      <th>bank_asset_value</th>\n",
       "      <th>status</th>\n",
       "    </tr>\n",
       "  </thead>\n",
       "  <tbody>\n",
       "    <tr>\n",
       "      <th>0</th>\n",
       "      <td>1</td>\n",
       "      <td>2</td>\n",
       "      <td>0</td>\n",
       "      <td>0</td>\n",
       "      <td>9600000</td>\n",
       "      <td>29900000</td>\n",
       "      <td>12</td>\n",
       "      <td>778</td>\n",
       "      <td>2400000</td>\n",
       "      <td>17600000</td>\n",
       "      <td>22700000</td>\n",
       "      <td>8000000</td>\n",
       "      <td>0</td>\n",
       "    </tr>\n",
       "    <tr>\n",
       "      <th>1</th>\n",
       "      <td>2</td>\n",
       "      <td>0</td>\n",
       "      <td>1</td>\n",
       "      <td>1</td>\n",
       "      <td>4100000</td>\n",
       "      <td>12200000</td>\n",
       "      <td>8</td>\n",
       "      <td>417</td>\n",
       "      <td>2700000</td>\n",
       "      <td>2200000</td>\n",
       "      <td>8800000</td>\n",
       "      <td>3300000</td>\n",
       "      <td>1</td>\n",
       "    </tr>\n",
       "    <tr>\n",
       "      <th>2</th>\n",
       "      <td>3</td>\n",
       "      <td>3</td>\n",
       "      <td>0</td>\n",
       "      <td>0</td>\n",
       "      <td>9100000</td>\n",
       "      <td>29700000</td>\n",
       "      <td>20</td>\n",
       "      <td>506</td>\n",
       "      <td>7100000</td>\n",
       "      <td>4500000</td>\n",
       "      <td>33300000</td>\n",
       "      <td>12800000</td>\n",
       "      <td>1</td>\n",
       "    </tr>\n",
       "    <tr>\n",
       "      <th>3</th>\n",
       "      <td>4</td>\n",
       "      <td>3</td>\n",
       "      <td>0</td>\n",
       "      <td>0</td>\n",
       "      <td>8200000</td>\n",
       "      <td>30700000</td>\n",
       "      <td>8</td>\n",
       "      <td>467</td>\n",
       "      <td>18200000</td>\n",
       "      <td>3300000</td>\n",
       "      <td>23300000</td>\n",
       "      <td>7900000</td>\n",
       "      <td>1</td>\n",
       "    </tr>\n",
       "    <tr>\n",
       "      <th>4</th>\n",
       "      <td>5</td>\n",
       "      <td>5</td>\n",
       "      <td>1</td>\n",
       "      <td>1</td>\n",
       "      <td>9800000</td>\n",
       "      <td>24200000</td>\n",
       "      <td>20</td>\n",
       "      <td>382</td>\n",
       "      <td>12400000</td>\n",
       "      <td>8200000</td>\n",
       "      <td>29400000</td>\n",
       "      <td>5000000</td>\n",
       "      <td>1</td>\n",
       "    </tr>\n",
       "  </tbody>\n",
       "</table>\n",
       "</div>"
      ],
      "text/plain": [
       "   loan_id   no_of_dependents   education   self_employed   income_annum  \\\n",
       "0        1                  2           0               0        9600000   \n",
       "1        2                  0           1               1        4100000   \n",
       "2        3                  3           0               0        9100000   \n",
       "3        4                  3           0               0        8200000   \n",
       "4        5                  5           1               1        9800000   \n",
       "\n",
       "    loan_amount   loan_term   cibil_score   residential_assets_value  \\\n",
       "0      29900000          12           778                    2400000   \n",
       "1      12200000           8           417                    2700000   \n",
       "2      29700000          20           506                    7100000   \n",
       "3      30700000           8           467                   18200000   \n",
       "4      24200000          20           382                   12400000   \n",
       "\n",
       "    commercial_assets_value   luxury_assets_value   bank_asset_value  status  \n",
       "0                  17600000              22700000            8000000       0  \n",
       "1                   2200000               8800000            3300000       1  \n",
       "2                   4500000              33300000           12800000       1  \n",
       "3                   3300000              23300000            7900000       1  \n",
       "4                   8200000              29400000            5000000       1  "
      ]
     },
     "execution_count": 10,
     "metadata": {},
     "output_type": "execute_result"
    }
   ],
   "source": [
    "loan_data_preprocessed.head()"
   ]
  },
  {
   "cell_type": "code",
   "execution_count": 11,
   "id": "b1ea1fb1",
   "metadata": {},
   "outputs": [],
   "source": [
    "X= loan_data_preprocessed.drop([\"loan_id\", \"status\"], axis= \"columns\")"
   ]
  },
  {
   "cell_type": "code",
   "execution_count": 12,
   "id": "5163b0ac",
   "metadata": {},
   "outputs": [
    {
     "data": {
      "text/html": [
       "<div>\n",
       "<style scoped>\n",
       "    .dataframe tbody tr th:only-of-type {\n",
       "        vertical-align: middle;\n",
       "    }\n",
       "\n",
       "    .dataframe tbody tr th {\n",
       "        vertical-align: top;\n",
       "    }\n",
       "\n",
       "    .dataframe thead th {\n",
       "        text-align: right;\n",
       "    }\n",
       "</style>\n",
       "<table border=\"1\" class=\"dataframe\">\n",
       "  <thead>\n",
       "    <tr style=\"text-align: right;\">\n",
       "      <th></th>\n",
       "      <th>no_of_dependents</th>\n",
       "      <th>education</th>\n",
       "      <th>self_employed</th>\n",
       "      <th>income_annum</th>\n",
       "      <th>loan_amount</th>\n",
       "      <th>loan_term</th>\n",
       "      <th>cibil_score</th>\n",
       "      <th>residential_assets_value</th>\n",
       "      <th>commercial_assets_value</th>\n",
       "      <th>luxury_assets_value</th>\n",
       "      <th>bank_asset_value</th>\n",
       "    </tr>\n",
       "  </thead>\n",
       "  <tbody>\n",
       "    <tr>\n",
       "      <th>0</th>\n",
       "      <td>2</td>\n",
       "      <td>0</td>\n",
       "      <td>0</td>\n",
       "      <td>9600000</td>\n",
       "      <td>29900000</td>\n",
       "      <td>12</td>\n",
       "      <td>778</td>\n",
       "      <td>2400000</td>\n",
       "      <td>17600000</td>\n",
       "      <td>22700000</td>\n",
       "      <td>8000000</td>\n",
       "    </tr>\n",
       "    <tr>\n",
       "      <th>1</th>\n",
       "      <td>0</td>\n",
       "      <td>1</td>\n",
       "      <td>1</td>\n",
       "      <td>4100000</td>\n",
       "      <td>12200000</td>\n",
       "      <td>8</td>\n",
       "      <td>417</td>\n",
       "      <td>2700000</td>\n",
       "      <td>2200000</td>\n",
       "      <td>8800000</td>\n",
       "      <td>3300000</td>\n",
       "    </tr>\n",
       "    <tr>\n",
       "      <th>2</th>\n",
       "      <td>3</td>\n",
       "      <td>0</td>\n",
       "      <td>0</td>\n",
       "      <td>9100000</td>\n",
       "      <td>29700000</td>\n",
       "      <td>20</td>\n",
       "      <td>506</td>\n",
       "      <td>7100000</td>\n",
       "      <td>4500000</td>\n",
       "      <td>33300000</td>\n",
       "      <td>12800000</td>\n",
       "    </tr>\n",
       "    <tr>\n",
       "      <th>3</th>\n",
       "      <td>3</td>\n",
       "      <td>0</td>\n",
       "      <td>0</td>\n",
       "      <td>8200000</td>\n",
       "      <td>30700000</td>\n",
       "      <td>8</td>\n",
       "      <td>467</td>\n",
       "      <td>18200000</td>\n",
       "      <td>3300000</td>\n",
       "      <td>23300000</td>\n",
       "      <td>7900000</td>\n",
       "    </tr>\n",
       "    <tr>\n",
       "      <th>4</th>\n",
       "      <td>5</td>\n",
       "      <td>1</td>\n",
       "      <td>1</td>\n",
       "      <td>9800000</td>\n",
       "      <td>24200000</td>\n",
       "      <td>20</td>\n",
       "      <td>382</td>\n",
       "      <td>12400000</td>\n",
       "      <td>8200000</td>\n",
       "      <td>29400000</td>\n",
       "      <td>5000000</td>\n",
       "    </tr>\n",
       "  </tbody>\n",
       "</table>\n",
       "</div>"
      ],
      "text/plain": [
       "    no_of_dependents   education   self_employed   income_annum   loan_amount  \\\n",
       "0                  2           0               0        9600000      29900000   \n",
       "1                  0           1               1        4100000      12200000   \n",
       "2                  3           0               0        9100000      29700000   \n",
       "3                  3           0               0        8200000      30700000   \n",
       "4                  5           1               1        9800000      24200000   \n",
       "\n",
       "    loan_term   cibil_score   residential_assets_value  \\\n",
       "0          12           778                    2400000   \n",
       "1           8           417                    2700000   \n",
       "2          20           506                    7100000   \n",
       "3           8           467                   18200000   \n",
       "4          20           382                   12400000   \n",
       "\n",
       "    commercial_assets_value   luxury_assets_value   bank_asset_value  \n",
       "0                  17600000              22700000            8000000  \n",
       "1                   2200000               8800000            3300000  \n",
       "2                   4500000              33300000           12800000  \n",
       "3                   3300000              23300000            7900000  \n",
       "4                   8200000              29400000            5000000  "
      ]
     },
     "execution_count": 12,
     "metadata": {},
     "output_type": "execute_result"
    }
   ],
   "source": [
    "X.head()"
   ]
  },
  {
   "cell_type": "code",
   "execution_count": 13,
   "id": "91d50091",
   "metadata": {},
   "outputs": [
    {
     "data": {
      "text/plain": [
       "(4269, 11)"
      ]
     },
     "execution_count": 13,
     "metadata": {},
     "output_type": "execute_result"
    }
   ],
   "source": [
    "X.shape"
   ]
  },
  {
   "cell_type": "code",
   "execution_count": 15,
   "id": "8d956388",
   "metadata": {},
   "outputs": [
    {
     "data": {
      "text/plain": [
       "0    0\n",
       "1    1\n",
       "2    1\n",
       "3    1\n",
       "4    1\n",
       "Name: status, dtype: int64"
      ]
     },
     "execution_count": 15,
     "metadata": {},
     "output_type": "execute_result"
    }
   ],
   "source": [
    "Y= loan_data_preprocessed[\"status\"]\n",
    "\n",
    "Y.head()"
   ]
  },
  {
   "cell_type": "code",
   "execution_count": 16,
   "id": "4890a4b0",
   "metadata": {},
   "outputs": [
    {
     "data": {
      "text/plain": [
       "0    0\n",
       "1    1\n",
       "2    1\n",
       "3    1\n",
       "4    1\n",
       "Name: status, dtype: int64"
      ]
     },
     "execution_count": 16,
     "metadata": {},
     "output_type": "execute_result"
    }
   ],
   "source": [
    "Y.head()"
   ]
  },
  {
   "cell_type": "code",
   "execution_count": 17,
   "id": "700b3c5b",
   "metadata": {},
   "outputs": [
    {
     "data": {
      "text/plain": [
       "(4269,)"
      ]
     },
     "execution_count": 17,
     "metadata": {},
     "output_type": "execute_result"
    }
   ],
   "source": [
    "Y.shape"
   ]
  },
  {
   "cell_type": "markdown",
   "id": "7721886c",
   "metadata": {},
   "source": [
    "# Preprocessing\n",
    "### 1. Split into train test\n",
    "### 2. Standardization"
   ]
  },
  {
   "cell_type": "code",
   "execution_count": 18,
   "id": "83227b79",
   "metadata": {},
   "outputs": [],
   "source": [
    "X_train, X_test, Y_train, Y_test = train_test_split( X, Y, test_size= 0.2, random_state= 42)"
   ]
  },
  {
   "cell_type": "code",
   "execution_count": 20,
   "id": "7f9d143a",
   "metadata": {},
   "outputs": [],
   "source": [
    "scaler= StandardScaler()\n",
    "scaler.fit(X_train)\n",
    "X_train_scaled= scaler.transform(X_train)\n",
    "X_test_scaled= scaler.transform(X_test)"
   ]
  },
  {
   "cell_type": "code",
   "execution_count": 22,
   "id": "78e88b04",
   "metadata": {},
   "outputs": [
    {
     "data": {
      "text/plain": [
       "array([[ 1.51250774, -0.99736803, -1.01504731, ...,  1.15447134,\n",
       "         0.05627784,  0.72735662],\n",
       "       [-0.25599737, -0.99736803, -1.01504731, ...,  1.04007205,\n",
       "         0.28522978,  0.54176071],\n",
       "       [ 0.33350433, -0.99736803, -1.01504731, ...,  2.57302245,\n",
       "         1.45179448,  0.51082806],\n",
       "       ...,\n",
       "       [ 1.51250774,  1.00263891,  0.98517575, ...,  0.49095549,\n",
       "        -0.37982112,  0.88201987],\n",
       "       [ 0.92300603,  1.00263891, -1.01504731, ..., -0.83607619,\n",
       "        -1.0121646 , -1.09766982],\n",
       "       [-0.84549907,  1.00263891, -1.01504731, ...,  0.14775765,\n",
       "        -0.59787059, -0.97393921]])"
      ]
     },
     "execution_count": 22,
     "metadata": {},
     "output_type": "execute_result"
    }
   ],
   "source": [
    "X_test_scaled"
   ]
  },
  {
   "cell_type": "code",
   "execution_count": 23,
   "id": "c0003332",
   "metadata": {},
   "outputs": [
    {
     "data": {
      "text/plain": [
       "array([ 1.51250774, -0.99736803, -1.01504731,  0.12027804,  0.49939915,\n",
       "        1.58742291, -1.02962329, -0.14839795,  1.15447134,  0.05627784,\n",
       "        0.72735662])"
      ]
     },
     "execution_count": 23,
     "metadata": {},
     "output_type": "execute_result"
    }
   ],
   "source": [
    "X_test_scaled[0]"
   ]
  },
  {
   "cell_type": "code",
   "execution_count": 24,
   "id": "2549ee3d",
   "metadata": {},
   "outputs": [
    {
     "name": "stdout",
     "output_type": "stream",
     "text": [
      "[1 0 1 0 0 0 0 1 0 1 1 0 0 1 1 0 0 0 0 1 0 1 1 1 0 0 0 0 0 1 0 1 1 0 1 1 0\n",
      " 0 0 1 1 0 0 0 0 0 0 0 0 1 0 0 1 0 0 0 0 0 0 0 0 0 1 1 1 0 0 0 0 0 0 0 0 0\n",
      " 1 0 1 0 0 0 1 1 1 0 1 1 0 0 1 1 0 1 0 1 1 0 1 0 0 0 0 1 0 1 1 0 1 0 0 0 0\n",
      " 0 1 1 1 1 0 0 1 0 1 0 1 1 0 0 0 1 0 0 0 1 0 1 0 0 0 1 0 0 0 0 0 1 1 0 1 0\n",
      " 1 0 0 1 1 1 0 0 0 1 0 0 1 0 0 0 1 0 0 0 1 0 0 1 0 0 1 0 0 1 0 1 1 0 1 1 0\n",
      " 0 0 0 1 0 0 1 1 1 0 0 1 0 0 0 1 1 1 1 1 1 0 0 0 0 0 1 1 0 0 0 1 0 0 0 0 0\n",
      " 0 1 0 0 0 0 0 1 1 1 0 1 0 0 0 0 1 0 1 1 0 0 0 1 1 1 1 0 0 0 0 0 1 1 1 0 1\n",
      " 0 0 0 0 0 0 0 0 1 1 0 0 0 1 0 0 0 0 1 0 0 1 1 0 0 1 0 0 1 1 0 0 0 1 0 1 0\n",
      " 0 1 1 1 1 1 0 0 1 0 0 0 0 0 0 1 0 0 0 0 0 0 1 0 0 0 0 0 1 1 0 1 1 1 0 1 0\n",
      " 0 0 1 1 0 0 0 0 0 1 0 0 1 1 0 0 1 0 0 1 1 0 0 0 1 1 1 0 1 0 0 1 1 1 0 0 0\n",
      " 0 1 0 1 1 1 1 1 0 0 0 1 0 1 0 0 0 0 0 0 1 0 0 0 0 1 0 1 0 0 1 0 1 0 0 0 1\n",
      " 1 0 0 1 0 0 0 0 1 1 1 1 0 0 1 1 0 0 0 1 0 0 0 1 0 0 0 1 1 1 1 0 0 1 0 0 1\n",
      " 0 0 0 0 0 0 1 0 1 0 0 0 0 0 0 0 0 0 1 1 0 0 1 1 1 1 0 0 0 1 0 0 1 1 0 0 0\n",
      " 0 1 0 0 0 0 0 1 0 0 1 1 0 1 0 1 1 1 0 0 0 0 1 0 0 1 0 0 0 1 0 1 1 1 0 0 0\n",
      " 0 1 0 0 0 1 0 0 0 1 0 0 0 0 0 0 0 1 0 1 1 0 0 1 0 0 1 0 0 0 1 0 1 0 0 0 0\n",
      " 1 0 0 1 1 0 0 0 0 1 1 0 1 0 0 1 0 0 1 0 1 0 1 0 0 0 1 0 0 0 1 0 1 1 0 0 0\n",
      " 1 0 0 0 0 1 0 0 1 0 0 1 0 0 0 0 0 1 0 0 1 0 0 0 1 0 1 1 1 0 0 0 0 0 0 1 0\n",
      " 0 1 0 0 0 0 1 0 0 1 0 0 1 0 0 0 0 0 0 1 0 0 0 0 0 1 0 0 1 0 0 1 0 0 1 1 0\n",
      " 1 0 0 0 0 1 0 0 1 1 1 0 0 1 1 0 0 1 0 0 0 0 1 0 1 1 0 1 0 0 1 1 0 0 1 1 0\n",
      " 1 1 0 1 1 1 0 0 1 1 0 1 1 0 1 0 0 1 1 0 1 0 1 0 0 0 1 0 0 0 0 0 1 0 1 1 0\n",
      " 0 1 1 0 1 0 0 1 1 1 1 1 0 0 1 0 0 0 1 1 0 1 0 1 0 0 0 1 1 0 1 0 0 0 0 0 0\n",
      " 1 0 0 0 0 0 0 1 1 0 1 0 0 0 0 1 1 1 1 0 1 0 0 0 1 0 0 0 1 0 0 0 1 0 0 1 0\n",
      " 1 0 0 1 0 0 0 1 1 0 0 0 0 1 0 0 1 1 1 0 0 1 0 1 0 1 0 0 0 0 0 0 1 0 1 0 0\n",
      " 0 1 1]\n"
     ]
    }
   ],
   "source": [
    "test_array = np.array(Y_test)\n",
    "print(test_array)"
   ]
  },
  {
   "cell_type": "code",
   "execution_count": 25,
   "id": "3b7097fd",
   "metadata": {},
   "outputs": [
    {
     "data": {
      "text/plain": [
       "1"
      ]
     },
     "execution_count": 25,
     "metadata": {},
     "output_type": "execute_result"
    }
   ],
   "source": [
    " test_array[0]"
   ]
  },
  {
   "cell_type": "markdown",
   "id": "24c3c392",
   "metadata": {},
   "source": [
    "# StratifiedKFold for Imbalanced Dataset"
   ]
  },
  {
   "cell_type": "markdown",
   "id": "a9131cd7",
   "metadata": {},
   "source": [
    "# Before parameter tuning"
   ]
  },
  {
   "cell_type": "code",
   "execution_count": 43,
   "id": "ab250ff7",
   "metadata": {},
   "outputs": [],
   "source": [
    "from sklearn.linear_model import LogisticRegression"
   ]
  },
  {
   "cell_type": "code",
   "execution_count": 44,
   "id": "1ec75e20",
   "metadata": {},
   "outputs": [],
   "source": [
    "model = LogisticRegression()"
   ]
  },
  {
   "cell_type": "code",
   "execution_count": 45,
   "id": "1e9a8b8f",
   "metadata": {},
   "outputs": [
    {
     "data": {
      "text/html": [
       "<style>#sk-container-id-3 {color: black;background-color: white;}#sk-container-id-3 pre{padding: 0;}#sk-container-id-3 div.sk-toggleable {background-color: white;}#sk-container-id-3 label.sk-toggleable__label {cursor: pointer;display: block;width: 100%;margin-bottom: 0;padding: 0.3em;box-sizing: border-box;text-align: center;}#sk-container-id-3 label.sk-toggleable__label-arrow:before {content: \"▸\";float: left;margin-right: 0.25em;color: #696969;}#sk-container-id-3 label.sk-toggleable__label-arrow:hover:before {color: black;}#sk-container-id-3 div.sk-estimator:hover label.sk-toggleable__label-arrow:before {color: black;}#sk-container-id-3 div.sk-toggleable__content {max-height: 0;max-width: 0;overflow: hidden;text-align: left;background-color: #f0f8ff;}#sk-container-id-3 div.sk-toggleable__content pre {margin: 0.2em;color: black;border-radius: 0.25em;background-color: #f0f8ff;}#sk-container-id-3 input.sk-toggleable__control:checked~div.sk-toggleable__content {max-height: 200px;max-width: 100%;overflow: auto;}#sk-container-id-3 input.sk-toggleable__control:checked~label.sk-toggleable__label-arrow:before {content: \"▾\";}#sk-container-id-3 div.sk-estimator input.sk-toggleable__control:checked~label.sk-toggleable__label {background-color: #d4ebff;}#sk-container-id-3 div.sk-label input.sk-toggleable__control:checked~label.sk-toggleable__label {background-color: #d4ebff;}#sk-container-id-3 input.sk-hidden--visually {border: 0;clip: rect(1px 1px 1px 1px);clip: rect(1px, 1px, 1px, 1px);height: 1px;margin: -1px;overflow: hidden;padding: 0;position: absolute;width: 1px;}#sk-container-id-3 div.sk-estimator {font-family: monospace;background-color: #f0f8ff;border: 1px dotted black;border-radius: 0.25em;box-sizing: border-box;margin-bottom: 0.5em;}#sk-container-id-3 div.sk-estimator:hover {background-color: #d4ebff;}#sk-container-id-3 div.sk-parallel-item::after {content: \"\";width: 100%;border-bottom: 1px solid gray;flex-grow: 1;}#sk-container-id-3 div.sk-label:hover label.sk-toggleable__label {background-color: #d4ebff;}#sk-container-id-3 div.sk-serial::before {content: \"\";position: absolute;border-left: 1px solid gray;box-sizing: border-box;top: 0;bottom: 0;left: 50%;z-index: 0;}#sk-container-id-3 div.sk-serial {display: flex;flex-direction: column;align-items: center;background-color: white;padding-right: 0.2em;padding-left: 0.2em;position: relative;}#sk-container-id-3 div.sk-item {position: relative;z-index: 1;}#sk-container-id-3 div.sk-parallel {display: flex;align-items: stretch;justify-content: center;background-color: white;position: relative;}#sk-container-id-3 div.sk-item::before, #sk-container-id-3 div.sk-parallel-item::before {content: \"\";position: absolute;border-left: 1px solid gray;box-sizing: border-box;top: 0;bottom: 0;left: 50%;z-index: -1;}#sk-container-id-3 div.sk-parallel-item {display: flex;flex-direction: column;z-index: 1;position: relative;background-color: white;}#sk-container-id-3 div.sk-parallel-item:first-child::after {align-self: flex-end;width: 50%;}#sk-container-id-3 div.sk-parallel-item:last-child::after {align-self: flex-start;width: 50%;}#sk-container-id-3 div.sk-parallel-item:only-child::after {width: 0;}#sk-container-id-3 div.sk-dashed-wrapped {border: 1px dashed gray;margin: 0 0.4em 0.5em 0.4em;box-sizing: border-box;padding-bottom: 0.4em;background-color: white;}#sk-container-id-3 div.sk-label label {font-family: monospace;font-weight: bold;display: inline-block;line-height: 1.2em;}#sk-container-id-3 div.sk-label-container {text-align: center;}#sk-container-id-3 div.sk-container {/* jupyter's `normalize.less` sets `[hidden] { display: none; }` but bootstrap.min.css set `[hidden] { display: none !important; }` so we also need the `!important` here to be able to override the default hidden behavior on the sphinx rendered scikit-learn.org. See: https://github.com/scikit-learn/scikit-learn/issues/21755 */display: inline-block !important;position: relative;}#sk-container-id-3 div.sk-text-repr-fallback {display: none;}</style><div id=\"sk-container-id-3\" class=\"sk-top-container\"><div class=\"sk-text-repr-fallback\"><pre>LogisticRegression()</pre><b>In a Jupyter environment, please rerun this cell to show the HTML representation or trust the notebook. <br />On GitHub, the HTML representation is unable to render, please try loading this page with nbviewer.org.</b></div><div class=\"sk-container\" hidden><div class=\"sk-item\"><div class=\"sk-estimator sk-toggleable\"><input class=\"sk-toggleable__control sk-hidden--visually\" id=\"sk-estimator-id-3\" type=\"checkbox\" checked><label for=\"sk-estimator-id-3\" class=\"sk-toggleable__label sk-toggleable__label-arrow\">LogisticRegression</label><div class=\"sk-toggleable__content\"><pre>LogisticRegression()</pre></div></div></div></div></div>"
      ],
      "text/plain": [
       "LogisticRegression()"
      ]
     },
     "execution_count": 45,
     "metadata": {},
     "output_type": "execute_result"
    }
   ],
   "source": [
    "model.fit(X_train_scaled, Y_train)"
   ]
  },
  {
   "cell_type": "code",
   "execution_count": 46,
   "id": "1eefbe35",
   "metadata": {},
   "outputs": [],
   "source": [
    "predictions = model.predict(X_test_scaled)"
   ]
  },
  {
   "cell_type": "code",
   "execution_count": 47,
   "id": "a9fc94c7",
   "metadata": {},
   "outputs": [],
   "source": [
    "from sklearn.metrics import accuracy_score, classification_report, confusion_matrix\n",
    "\n",
    "accuracy = accuracy_score(Y_test, predictions)\n",
    "classification_report = classification_report(Y_test, predictions)\n",
    "confusion_matrix = confusion_matrix(Y_test, predictions)"
   ]
  },
  {
   "cell_type": "code",
   "execution_count": 48,
   "id": "445e6bbe",
   "metadata": {},
   "outputs": [
    {
     "name": "stdout",
     "output_type": "stream",
     "text": [
      "0.905152224824356\n"
     ]
    }
   ],
   "source": [
    "print(accuracy)"
   ]
  },
  {
   "cell_type": "code",
   "execution_count": 49,
   "id": "8612dbe8",
   "metadata": {},
   "outputs": [
    {
     "name": "stdout",
     "output_type": "stream",
     "text": [
      "              precision    recall  f1-score   support\n",
      "\n",
      "           0       0.92      0.93      0.92       536\n",
      "           1       0.88      0.86      0.87       318\n",
      "\n",
      "    accuracy                           0.91       854\n",
      "   macro avg       0.90      0.90      0.90       854\n",
      "weighted avg       0.90      0.91      0.90       854\n",
      "\n"
     ]
    }
   ],
   "source": [
    "print(classification_report)"
   ]
  },
  {
   "cell_type": "code",
   "execution_count": 50,
   "id": "5d28125d",
   "metadata": {},
   "outputs": [
    {
     "data": {
      "text/plain": [
       "array([[498,  38],\n",
       "       [ 43, 275]])"
      ]
     },
     "execution_count": 50,
     "metadata": {},
     "output_type": "execute_result"
    }
   ],
   "source": [
    "confusion_matrix"
   ]
  },
  {
   "cell_type": "markdown",
   "id": "5fda272c",
   "metadata": {},
   "source": [
    "## Before parameter tuning accuracy= 0.9051"
   ]
  },
  {
   "cell_type": "markdown",
   "id": "f8f22f9e",
   "metadata": {},
   "source": [
    "# Hyper parameter tuning using GridSearchCV"
   ]
  },
  {
   "cell_type": "code",
   "execution_count": 80,
   "id": "b2205a37",
   "metadata": {},
   "outputs": [
    {
     "data": {
      "text/html": [
       "<div>\n",
       "<style scoped>\n",
       "    .dataframe tbody tr th:only-of-type {\n",
       "        vertical-align: middle;\n",
       "    }\n",
       "\n",
       "    .dataframe tbody tr th {\n",
       "        vertical-align: top;\n",
       "    }\n",
       "\n",
       "    .dataframe thead th {\n",
       "        text-align: right;\n",
       "    }\n",
       "</style>\n",
       "<table border=\"1\" class=\"dataframe\">\n",
       "  <thead>\n",
       "    <tr style=\"text-align: right;\">\n",
       "      <th></th>\n",
       "      <th>param_C</th>\n",
       "      <th>param_penalty</th>\n",
       "      <th>param_solver</th>\n",
       "      <th>mean_test_score</th>\n",
       "      <th>rank_test_score</th>\n",
       "    </tr>\n",
       "  </thead>\n",
       "  <tbody>\n",
       "    <tr>\n",
       "      <th>1</th>\n",
       "      <td>0.01</td>\n",
       "      <td>l1</td>\n",
       "      <td>liblinear</td>\n",
       "      <td>0.940264</td>\n",
       "      <td>1</td>\n",
       "    </tr>\n",
       "    <tr>\n",
       "      <th>5</th>\n",
       "      <td>0.01</td>\n",
       "      <td>l2</td>\n",
       "      <td>liblinear</td>\n",
       "      <td>0.923572</td>\n",
       "      <td>2</td>\n",
       "    </tr>\n",
       "    <tr>\n",
       "      <th>13</th>\n",
       "      <td>0.1</td>\n",
       "      <td>l2</td>\n",
       "      <td>liblinear</td>\n",
       "      <td>0.920644</td>\n",
       "      <td>3</td>\n",
       "    </tr>\n",
       "    <tr>\n",
       "      <th>9</th>\n",
       "      <td>0.1</td>\n",
       "      <td>l1</td>\n",
       "      <td>liblinear</td>\n",
       "      <td>0.919766</td>\n",
       "      <td>4</td>\n",
       "    </tr>\n",
       "    <tr>\n",
       "      <th>29</th>\n",
       "      <td>1</td>\n",
       "      <td>l2</td>\n",
       "      <td>liblinear</td>\n",
       "      <td>0.919473</td>\n",
       "      <td>5</td>\n",
       "    </tr>\n",
       "    <tr>\n",
       "      <th>15</th>\n",
       "      <td>0.1</td>\n",
       "      <td>l2</td>\n",
       "      <td>newton-cholesky</td>\n",
       "      <td>0.919180</td>\n",
       "      <td>6</td>\n",
       "    </tr>\n",
       "    <tr>\n",
       "      <th>12</th>\n",
       "      <td>0.1</td>\n",
       "      <td>l2</td>\n",
       "      <td>lbfgs</td>\n",
       "      <td>0.919180</td>\n",
       "      <td>6</td>\n",
       "    </tr>\n",
       "    <tr>\n",
       "      <th>14</th>\n",
       "      <td>0.1</td>\n",
       "      <td>l2</td>\n",
       "      <td>newton-cg</td>\n",
       "      <td>0.919180</td>\n",
       "      <td>6</td>\n",
       "    </tr>\n",
       "    <tr>\n",
       "      <th>25</th>\n",
       "      <td>1</td>\n",
       "      <td>l1</td>\n",
       "      <td>liblinear</td>\n",
       "      <td>0.918887</td>\n",
       "      <td>9</td>\n",
       "    </tr>\n",
       "    <tr>\n",
       "      <th>37</th>\n",
       "      <td>2</td>\n",
       "      <td>l2</td>\n",
       "      <td>liblinear</td>\n",
       "      <td>0.918594</td>\n",
       "      <td>10</td>\n",
       "    </tr>\n",
       "    <tr>\n",
       "      <th>17</th>\n",
       "      <td>0.5</td>\n",
       "      <td>l1</td>\n",
       "      <td>liblinear</td>\n",
       "      <td>0.918594</td>\n",
       "      <td>10</td>\n",
       "    </tr>\n",
       "    <tr>\n",
       "      <th>31</th>\n",
       "      <td>1</td>\n",
       "      <td>l2</td>\n",
       "      <td>newton-cholesky</td>\n",
       "      <td>0.918594</td>\n",
       "      <td>10</td>\n",
       "    </tr>\n",
       "    <tr>\n",
       "      <th>30</th>\n",
       "      <td>1</td>\n",
       "      <td>l2</td>\n",
       "      <td>newton-cg</td>\n",
       "      <td>0.918594</td>\n",
       "      <td>10</td>\n",
       "    </tr>\n",
       "    <tr>\n",
       "      <th>28</th>\n",
       "      <td>1</td>\n",
       "      <td>l2</td>\n",
       "      <td>lbfgs</td>\n",
       "      <td>0.918594</td>\n",
       "      <td>10</td>\n",
       "    </tr>\n",
       "    <tr>\n",
       "      <th>44</th>\n",
       "      <td>10</td>\n",
       "      <td>l2</td>\n",
       "      <td>lbfgs</td>\n",
       "      <td>0.918302</td>\n",
       "      <td>15</td>\n",
       "    </tr>\n",
       "    <tr>\n",
       "      <th>55</th>\n",
       "      <td>100</td>\n",
       "      <td>l2</td>\n",
       "      <td>newton-cholesky</td>\n",
       "      <td>0.918302</td>\n",
       "      <td>15</td>\n",
       "    </tr>\n",
       "    <tr>\n",
       "      <th>33</th>\n",
       "      <td>2</td>\n",
       "      <td>l1</td>\n",
       "      <td>liblinear</td>\n",
       "      <td>0.918302</td>\n",
       "      <td>15</td>\n",
       "    </tr>\n",
       "    <tr>\n",
       "      <th>41</th>\n",
       "      <td>10</td>\n",
       "      <td>l1</td>\n",
       "      <td>liblinear</td>\n",
       "      <td>0.918302</td>\n",
       "      <td>15</td>\n",
       "    </tr>\n",
       "    <tr>\n",
       "      <th>54</th>\n",
       "      <td>100</td>\n",
       "      <td>l2</td>\n",
       "      <td>newton-cg</td>\n",
       "      <td>0.918302</td>\n",
       "      <td>15</td>\n",
       "    </tr>\n",
       "    <tr>\n",
       "      <th>45</th>\n",
       "      <td>10</td>\n",
       "      <td>l2</td>\n",
       "      <td>liblinear</td>\n",
       "      <td>0.918302</td>\n",
       "      <td>15</td>\n",
       "    </tr>\n",
       "  </tbody>\n",
       "</table>\n",
       "</div>"
      ],
      "text/plain": [
       "   param_C param_penalty     param_solver  mean_test_score  rank_test_score\n",
       "1     0.01            l1        liblinear         0.940264                1\n",
       "5     0.01            l2        liblinear         0.923572                2\n",
       "13     0.1            l2        liblinear         0.920644                3\n",
       "9      0.1            l1        liblinear         0.919766                4\n",
       "29       1            l2        liblinear         0.919473                5\n",
       "15     0.1            l2  newton-cholesky         0.919180                6\n",
       "12     0.1            l2            lbfgs         0.919180                6\n",
       "14     0.1            l2        newton-cg         0.919180                6\n",
       "25       1            l1        liblinear         0.918887                9\n",
       "37       2            l2        liblinear         0.918594               10\n",
       "17     0.5            l1        liblinear         0.918594               10\n",
       "31       1            l2  newton-cholesky         0.918594               10\n",
       "30       1            l2        newton-cg         0.918594               10\n",
       "28       1            l2            lbfgs         0.918594               10\n",
       "44      10            l2            lbfgs         0.918302               15\n",
       "55     100            l2  newton-cholesky         0.918302               15\n",
       "33       2            l1        liblinear         0.918302               15\n",
       "41      10            l1        liblinear         0.918302               15\n",
       "54     100            l2        newton-cg         0.918302               15\n",
       "45      10            l2        liblinear         0.918302               15"
      ]
     },
     "execution_count": 80,
     "metadata": {},
     "output_type": "execute_result"
    }
   ],
   "source": [
    "# Hyper parameter tuning and cross validation for the Logistic Regression model\n",
    "\n",
    "from sklearn.model_selection import GridSearchCV\n",
    "\n",
    "\n",
    "grid = GridSearchCV(LogisticRegression(max_iter=1000), {\n",
    "    'C': [0.01, 0.1, 0.5, 1, 2, 10, 100],\n",
    "    'penalty': ['l1', 'l2'],\n",
    "    'solver': ['lbfgs', 'liblinear', 'newton-cg', 'newton-cholesky'] \n",
    "}, cv=5, return_train_score=False)\n",
    "\n",
    "grid.fit(X_train_scaled,Y_train)\n",
    "grid = pd.DataFrame(grid.cv_results_).sort_values(by='rank_test_score', ascending=True)\n",
    "grid[['param_C', 'param_penalty', 'param_solver', 'mean_test_score', 'rank_test_score']].head(20)"
   ]
  },
  {
   "cell_type": "markdown",
   "id": "818f316d",
   "metadata": {},
   "source": [
    "## Best parameters were C=0.01, penalty='l1', solver='liblinear'"
   ]
  },
  {
   "cell_type": "code",
   "execution_count": 52,
   "id": "1e8ca8e0",
   "metadata": {},
   "outputs": [],
   "source": [
    "# Pick the best Logistic Regression model\n",
    "LR_best = LogisticRegression(C=0.01, penalty='l1', solver='liblinear', max_iter=1000)"
   ]
  },
  {
   "cell_type": "code",
   "execution_count": 84,
   "id": "3dca267a",
   "metadata": {},
   "outputs": [
    {
     "name": "stdout",
     "output_type": "stream",
     "text": [
      "Confusion Matrix:\n",
      " [[498  38]\n",
      " [ 43 275]]\n",
      "0.905152224824356\n",
      "Classification Report:\n",
      "               precision    recall  f1-score   support\n",
      "\n",
      "           0       0.92      0.93      0.92       536\n",
      "           1       0.88      0.86      0.87       318\n",
      "\n",
      "    accuracy                           0.91       854\n",
      "   macro avg       0.90      0.90      0.90       854\n",
      "weighted avg       0.90      0.91      0.90       854\n",
      "\n"
     ]
    }
   ],
   "source": [
    "from sklearn.metrics import confusion_matrix, classification_report\n",
    "from sklearn.model_selection import train_test_split\n",
    "from sklearn.linear_model import LogisticRegression\n",
    "from sklearn.preprocessing import StandardScaler\n",
    "\n",
    "#  X, Y are feature and target variables\n",
    "\n",
    "# Split the data into training and testing sets\n",
    "X_train, X_test, Y_train, Y_test = train_test_split(X, Y, test_size=0.2, random_state=42)\n",
    "\n",
    "# Standardize the features\n",
    "scaler = StandardScaler()\n",
    "scaler.fit(X_train)\n",
    "X_train_scaled = scaler.transform(X_train)\n",
    "X_test_scaled = scaler.transform(X_test)\n",
    "\n",
    "# Pick the best Logistic Regression model\n",
    "LR_best = LogisticRegression(C=10, penalty='l2', solver='liblinear', max_iter=1000)\n",
    "LR_best.fit(X_train_scaled, Y_train)\n",
    "\n",
    "# Make predictions on the test set\n",
    "Y_pred = LR_best.predict(X_test_scaled)\n",
    "\n",
    "# Calculate confusion matrix\n",
    "conf_matrix = confusion_matrix(Y_test, Y_pred)\n",
    "print(\"Confusion Matrix:\\n\", conf_matrix)\n",
    "\n",
    "#print accuracy\n",
    "accuracy_tuning = accuracy_score(Y_test, Y_pred)\n",
    "print(accuracy_tuning)\n",
    "\n",
    "# Generate classification report\n",
    "class_report = classification_report(Y_test, Y_pred)\n",
    "print(\"Classification Report:\\n\", class_report)\n"
   ]
  },
  {
   "cell_type": "markdown",
   "id": "de8afaac",
   "metadata": {},
   "source": [
    "# After parameter tuning accuracy = 0.934"
   ]
  },
  {
   "cell_type": "markdown",
   "id": "f6b08126",
   "metadata": {},
   "source": [
    "# Confusion Matrix"
   ]
  },
  {
   "cell_type": "code",
   "execution_count": 55,
   "id": "a41c2265",
   "metadata": {},
   "outputs": [
    {
     "data": {
      "image/png": "[encoded data removed]",
      "text/plain": [
       "<Figure size 640x480 with 1 Axes>"
      ]
     },
     "metadata": {},
     "output_type": "display_data"
    }
   ],
   "source": [
    "# Visualize the confusion matrix\n",
    "category=['Approved', 'Rejected']\n",
    "disp = ConfusionMatrixDisplay(confusion_matrix=conf_matrix, display_labels=category)\n",
    "disp = disp.plot(cmap=plt.cm.YlOrRd, colorbar=False)\n",
    "plt.show()"
   ]
  },
  {
   "cell_type": "markdown",
   "id": "8522de97",
   "metadata": {},
   "source": [
    "<!-- True Positives (TP): The upper left cell shows the number of correct predictions that an instance is positive, in this case, 70. This means that 70 benign cases were correctly identified by the model.\n",
    "\n",
    "True Negatives (TN): The lower right cell shows the number of correct predictions that an instance is negative, here being 42. This means that 42 malignant cases were correctly identified.\n",
    "\n",
    "False Positives (FP): The upper right cell shows the number of incorrect predictions that an instance is positive, which is 1. This represents a case that was actually malignant but was incorrectly predicted as benign by the model.\n",
    "\n",
    "False Negatives (FN): The lower left cell shows the number of incorrect predictions that an instance is negative, also 1 in this matrix. This represents a case that was actually benign but was incorrectly predicted as malignant. -->"
   ]
  },
  {
   "cell_type": "markdown",
   "id": "cd6479e8",
   "metadata": {},
   "source": [
    "# AUC this is gives the measure of the model independent to the threshold used for classification"
   ]
  },
  {
   "cell_type": "code",
   "execution_count": 73,
   "id": "b3583745",
   "metadata": {},
   "outputs": [
    {
     "name": "stdout",
     "output_type": "stream",
     "text": [
      "AUC: 0.9364879222094661\n"
     ]
    },
    {
     "data": {
      "image/png": "[encoded data removed]",
      "text/plain": [
       "<Figure size 640x480 with 1 Axes>"
      ]
     },
     "metadata": {},
     "output_type": "display_data"
    }
   ],
   "source": [
    "from sklearn.metrics import precision_recall_curve, auc\n",
    "# Obtain predicted probabilities for the positive class\n",
    "Y_proba = LR_best.predict_proba(X_test_scaled)[:, 1]\n",
    "# Compute precision and recall values\n",
    "precision, recall, thresholds = precision_recall_curve(Y_test, Y_proba)\n",
    "# Plot the precision-recall curve\n",
    "auc_score = auc(recall, precision)\n",
    "print(\"AUC:\", auc_score)\n",
    "plt.plot(recall, precision, label='Precision-Recall Curve')\n",
    "plt.xlabel('Recall')\n",
    "plt.ylabel('Precision')\n",
    "plt.title('Precision-Recall Curve for Support Vector Machine',pad= 20, fontweight= \"bold\")\n",
    "plt.legend()\n",
    "plt.show()"
   ]
  },
  {
   "cell_type": "markdown",
   "id": "96411dd3",
   "metadata": {},
   "source": [
    "# WHICH ARE INCORRECT PREDICTION?"
   ]
  },
  {
   "cell_type": "code",
   "execution_count": 58,
   "id": "a66150dc",
   "metadata": {
    "scrolled": true
   },
   "outputs": [
    {
     "name": "stdout",
     "output_type": "stream",
     "text": [
      "Incorrect predictions:        no_of_dependents   education   self_employed   income_annum  \\\n",
      "3839                  2           1               1        5100000   \n",
      "1130                  1           1               0         300000   \n",
      "3402                  3           1               1        9200000   \n",
      "3624                  1           1               1         800000   \n",
      "3490                  1           0               0        4700000   \n",
      "315                   4           0               0        4400000   \n",
      "2873                  4           0               1        6800000   \n",
      "1784                  3           1               0        7900000   \n",
      "1979                  0           0               0        8300000   \n",
      "2856                  3           1               1        8300000   \n",
      "1047                  2           0               0        3300000   \n",
      "2678                  2           0               1        4200000   \n",
      "1566                  5           1               0        3700000   \n",
      "1487                  3           1               1        1400000   \n",
      "2249                  1           0               0        7000000   \n",
      "810                   1           1               0        2600000   \n",
      "1235                  4           0               1        8400000   \n",
      "1948                  2           0               0        9200000   \n",
      "2405                  3           1               0        2600000   \n",
      "4091                  5           1               0        7700000   \n",
      "4161                  5           1               0        1100000   \n",
      "1024                  3           0               0        8700000   \n",
      "254                   2           1               0        2100000   \n",
      "3521                  1           1               0        1200000   \n",
      "3754                  1           0               0        2800000   \n",
      "3127                  5           0               1        8200000   \n",
      "287                   5           1               0        4000000   \n",
      "1717                  0           0               0        9700000   \n",
      "2623                  4           1               1         300000   \n",
      "3026                  0           0               1        2700000   \n",
      "2605                  3           0               1        7800000   \n",
      "3458                  3           1               1        7500000   \n",
      "2920                  1           1               0         400000   \n",
      "4164                  1           0               1        6400000   \n",
      "915                   4           0               1        8200000   \n",
      "3906                  2           0               1        6200000   \n",
      "1397                  1           1               1        9200000   \n",
      "95                    5           0               0         300000   \n",
      "802                   0           0               0        1800000   \n",
      "4155                  3           1               0        7400000   \n",
      "564                   5           0               0        2000000   \n",
      "321                   4           1               1        6400000   \n",
      "869                   3           0               0        6600000   \n",
      "1803                  2           0               1        5500000   \n",
      "4056                  2           0               1        7800000   \n",
      "690                   5           0               0        1700000   \n",
      "2552                  1           1               1        3600000   \n",
      "3901                  5           0               0        2300000   \n",
      "3569                  3           0               1        3200000   \n",
      "2628                  3           0               0        9900000   \n",
      "2770                  3           0               1        7300000   \n",
      "1419                  2           0               0        9100000   \n",
      "1456                  4           0               1        1500000   \n",
      "1812                  5           1               0        9000000   \n",
      "1288                  3           1               0        5900000   \n",
      "1237                  2           1               1        9500000   \n",
      "\n",
      "       loan_amount   loan_term   cibil_score   residential_assets_value  \\\n",
      "3839      16800000           2           504                    6400000   \n",
      "1130       1200000           4           342                     800000   \n",
      "3402      28900000           8           538                   13900000   \n",
      "3624       2600000           2           439                     600000   \n",
      "3490      15700000           4           468                   13300000   \n",
      "315       14600000           4           499                    1300000   \n",
      "2873      22100000           4           446                    3700000   \n",
      "1784      28000000           4           394                   22800000   \n",
      "1979      31400000          18           558                   13300000   \n",
      "2856      31400000           6           674                    1000000   \n",
      "1047      11800000           4           393                    5700000   \n",
      "2678      15700000           2           332                    7000000   \n",
      "1566      11700000           4           413                    8400000   \n",
      "1487       4600000           8           543                    1500000   \n",
      "2249      21000000          20           554                   16900000   \n",
      "810        8500000           2           491                    1700000   \n",
      "1235      25200000           2           308                    8100000   \n",
      "1948      34200000           2           456                   12200000   \n",
      "2405       8100000           2           421                    4200000   \n",
      "4091      19000000           2           539                    4000000   \n",
      "4161       4000000           2           362                    1800000   \n",
      "1024      30500000           2           443                   11800000   \n",
      "254        4700000           2           546                    6000000   \n",
      "3521       4500000           4           439                    3200000   \n",
      "3754       6900000          14           553                     400000   \n",
      "3127      28900000           4           485                   16500000   \n",
      "287       13900000           6           530                    6000000   \n",
      "1717      30400000           4           300                   17100000   \n",
      "2623       1100000           4           315                     700000   \n",
      "3026       9700000          20           551                    1300000   \n",
      "2605      27200000          16           560                    3600000   \n",
      "3458      26000000           2           342                   13900000   \n",
      "2920       1400000           4           302                     200000   \n",
      "4164      16400000          20           555                    6000000   \n",
      "915       28500000           2           378                    6800000   \n",
      "3906      23800000           4           489                    2900000   \n",
      "1397      24500000           4           545                   25700000   \n",
      "95         1100000           2           300                     100000   \n",
      "802        5400000          16           555                    3900000   \n",
      "4155      23500000           2           460                   20600000   \n",
      "564        6100000           2           407                    1900000   \n",
      "321       23500000           2           485                    7300000   \n",
      "869       22100000           4           455                    3800000   \n",
      "1803      21700000           2           309                   11800000   \n",
      "4056      22100000           6           533                   11900000   \n",
      "690        4300000           2           517                     100000   \n",
      "2552      13100000           8           543                    2900000   \n",
      "3901       4900000           4           529                    6200000   \n",
      "3569       7400000           2           543                    3600000   \n",
      "2628      23600000          18           557                   18300000   \n",
      "2770      21600000          20           557                    1900000   \n",
      "1419      21700000          12           549                   25500000   \n",
      "1456       5800000           2           304                    2400000   \n",
      "1812      35200000           2           437                   18400000   \n",
      "1288      23200000           2           307                   15500000   \n",
      "1237      37500000           4           456                   10200000   \n",
      "\n",
      "       commercial_assets_value   luxury_assets_value   bank_asset_value  \n",
      "3839                   2700000              17100000            4400000  \n",
      "1130                    100000               1100000             200000  \n",
      "3402                   8300000              32400000            4900000  \n",
      "3624                         0               1800000             400000  \n",
      "3490                   5100000              16200000            3600000  \n",
      "315                    6500000              16100000            5700000  \n",
      "2873                   4600000              18900000            9200000  \n",
      "1784                  13200000              18200000            3900000  \n",
      "1979                   2900000              25900000            6300000  \n",
      "2856                   1600000              17200000            6100000  \n",
      "1047                   3700000               6800000            2600000  \n",
      "2678                    700000              13300000            3000000  \n",
      "1566                   5500000              12000000            2700000  \n",
      "1487                   1200000               2700000            2000000  \n",
      "2249                   6600000              14600000            5600000  \n",
      "810                    1800000               5300000            2600000  \n",
      "1235                   9300000              27700000           10500000  \n",
      "1948                  11300000              25800000            5700000  \n",
      "2405                   3100000               6200000            2500000  \n",
      "4091                  14500000              29300000            4100000  \n",
      "4161                   1300000               3500000            1100000  \n",
      "1024                   1800000              24600000            8100000  \n",
      "254                    3200000               5700000            1500000  \n",
      "3521                   1800000               2900000            1200000  \n",
      "3754                   4900000               6800000            4200000  \n",
      "3127                   3000000              19400000            6800000  \n",
      "287                    5600000              12500000            6000000  \n",
      "1717                  16600000              38100000            9200000  \n",
      "2623                    100000                900000             100000  \n",
      "3026                   1300000               7100000            1600000  \n",
      "2605                   8100000              21800000            8600000  \n",
      "3458                   1900000              26900000           11200000  \n",
      "2920                    100000               1500000             500000  \n",
      "4164                   2500000              20100000            7400000  \n",
      "915                   11200000              26400000           11500000  \n",
      "3906                   7500000              21300000            3300000  \n",
      "1397                         0              20600000           13300000  \n",
      "95                      500000                700000             400000  \n",
      "802                    2900000               5100000            1700000  \n",
      "4155                  12200000              25900000            9200000  \n",
      "564                    1900000               4600000            2000000  \n",
      "321                    2700000              23600000            3900000  \n",
      "869                    3000000              25100000            7400000  \n",
      "1803                   1000000              21600000            7600000  \n",
      "4056                   2500000              19300000           10800000  \n",
      "690                     200000               6200000            1600000  \n",
      "2552                    100000               9900000            2700000  \n",
      "3901                   3900000               9200000            2000000  \n",
      "3569                   4500000              11200000            4600000  \n",
      "2628                   8600000              23000000            9100000  \n",
      "2770                   3800000              26400000            9300000  \n",
      "1419                  11000000              34700000           12200000  \n",
      "1456                   1600000               3300000            1400000  \n",
      "1812                  17800000              18300000           10400000  \n",
      "1288                  10000000              21100000            6300000  \n",
      "1237                  16800000              34100000           12900000  \n"
     ]
    }
   ],
   "source": [
    "incorrect_predictions = X_test[Y_test != Y_pred]\n",
    "print(\"Incorrect predictions:\", incorrect_predictions)"
   ]
  },
  {
   "cell_type": "code",
   "execution_count": 59,
   "id": "93e9b560",
   "metadata": {},
   "outputs": [
    {
     "data": {
      "text/plain": [
       "(56, 11)"
      ]
     },
     "execution_count": 59,
     "metadata": {},
     "output_type": "execute_result"
    }
   ],
   "source": [
    "incorrect_predictions.shape"
   ]
  },
  {
   "cell_type": "markdown",
   "id": "9ddf0dcd",
   "metadata": {},
   "source": [
    "# Cross Validation"
   ]
  },
  {
   "cell_type": "markdown",
   "id": "9809721e",
   "metadata": {},
   "source": [
    "# Graphical visualization of cross validation for each fold"
   ]
  },
  {
   "cell_type": "code",
   "execution_count": 74,
   "id": "3ecaf2b7",
   "metadata": {},
   "outputs": [
    {
     "data": {
      "image/png": "[encoded data removed]",
      "text/plain": [
       "<Figure size 1000x600 with 1 Axes>"
      ]
     },
     "metadata": {},
     "output_type": "display_data"
    },
    {
     "name": "stdout",
     "output_type": "stream",
     "text": [
      "Confusion Matrix:\n",
      " [[1982  138]\n",
      " [ 136 1159]]\n",
      "Classification Report:\n",
      "               precision    recall  f1-score   support\n",
      "\n",
      "           0       0.94      0.93      0.94      2120\n",
      "           1       0.89      0.89      0.89      1295\n",
      "\n",
      "    accuracy                           0.92      3415\n",
      "   macro avg       0.91      0.91      0.91      3415\n",
      "weighted avg       0.92      0.92      0.92      3415\n",
      "\n"
     ]
    }
   ],
   "source": []
  },
  {
   "cell_type": "markdown",
   "id": "f36f0e16",
   "metadata": {},
   "source": [
    "Overall High Accuracy: The accuracies for both training and validation are high, indicating a well-performing model overall.\n",
    "\n",
    "Stable Training Accuracy: The training accuracy does not show significant changes across the folds, which suggests the model is stable with respect to the data it is trained on.\n",
    "\n",
    "Validation Accuracy Variance: The drop in validation accuracy on the third fold may indicate that the model did not perform as well on that particular subset of the data. This could be due to several reasons, such as:\n",
    "\n",
    "The validation subset in the third fold could be inherently more difficult to predict.\n",
    "The validation subset could contain outliers or features that are not as well represented in the training data.\n",
    "Recovery in Validation Accuracy: The increase in validation accuracy in the fourth and fifth folds suggests that the issue observed in the third fold does not persist with different subsets of the data, indicating that the model is capable of recovering and generalizing from fold to fold.\n",
    "\n",
    "No Clear Signs of Overfitting: Since the training accuracy does not exhibit a peak or significant drop at the point where the validation accuracy dips, it does not necessarily indicate overfitting. Overfitting is usually suggested by a high training accuracy accompanied by a low validation accuracy, which is not consistently observed here."
   ]
  },
  {
   "cell_type": "code",
   "execution_count": 78,
   "id": "10b9f44a",
   "metadata": {},
   "outputs": [
    {
     "data": {
      "image/png": "[encoded data removed]",
      "text/plain": [
       "<Figure size 1000x600 with 1 Axes>"
      ]
     },
     "metadata": {},
     "output_type": "display_data"
    }
   ],
   "source": [
    "\n",
    "# Assuming train_accuracies and val_accuracies are filled as before\n",
    "folds = np.arange(1, 6)  # Folds ranging from 1 to 5\n",
    "\n",
    "# Calculate the minimum and maximum accuracy values across both training and validation accuracies\n",
    "min_accuracy = min(min(train_accuracies), min(val_accuracies))\n",
    "max_accuracy = max(max(train_accuracies), max(val_accuracies))\n",
    "\n",
    "# Expand the range slightly to ensure all bars are comfortably within the plot area\n",
    "min_lim = max(0, min_accuracy - 0.05)  # Ensure minimum is not less than 0\n",
    "max_lim = min(0.96, max_accuracy + 0.05)  # Ensure maximum is not more than 1\n",
    "\n",
    "plt.figure(figsize=(10, 6))\n",
    "\n",
    "# Adjust the width for clarity\n",
    "width = 0.15\n",
    "\n",
    "# Plotting both the training and validation accuracies as bar charts\n",
    "plt.bar(folds - width/2, train_accuracies, width, label='Training Accuracy')\n",
    "plt.bar(folds + width/2, val_accuracies, width, label='Validation Accuracy')\n",
    "\n",
    "# Setting the y-axis to focus on the range of interest\n",
    "plt.ylim([min_lim, max_lim])\n",
    "\n",
    "# Adding labels and title\n",
    "plt.xlabel('Fold')\n",
    "plt.ylabel('Accuracy')\n",
    "plt.title('Training and Validation Accuracy by Fold')\n",
    "plt.xticks(folds)\n",
    "\n",
    "# Adding a legend\n",
    "plt.legend(loc='best')\n",
    "\n",
    "plt.show()"
   ]
  },
  {
   "cell_type": "code",
   "execution_count": null,
   "id": "ecfa8d26",
   "metadata": {},
   "outputs": [],
   "source": []
  }
 ],
 "metadata": {
  "kernelspec": {
   "display_name": "Python 3 (ipykernel)",
   "language": "python",
   "name": "python3"
  },
  "language_info": {
   "codemirror_mode": {
    "name": "ipython",
    "version": 3
   },
   "file_extension": ".py",
   "mimetype": "text/x-python",
   "name": "python",
   "nbconvert_exporter": "python",
   "pygments_lexer": "ipython3",
   "version": "3.9.18"
  }
 },
 "nbformat": 4,
 "nbformat_minor": 5
}
